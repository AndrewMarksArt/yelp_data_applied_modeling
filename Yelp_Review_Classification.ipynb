{
 "cells": [
  {
   "cell_type": "markdown",
   "metadata": {},
   "source": [
    "### all imports"
   ]
  },
  {
   "cell_type": "code",
   "execution_count": 83,
   "metadata": {},
   "outputs": [],
   "source": [
    "import pandas as pd\n",
    "import numpy as np\n",
    "import matplotlib.pyplot as plt\n",
    "import seaborn as sns\n",
    "import nltk\n",
    "import re\n",
    "import random\n",
    "\n",
    "from nltk.tokenize import word_tokenize\n",
    "from nltk.corpus import stopwords\n",
    "from nltk.classify.scikitlearn import SklearnClassifier\n",
    "from nltk.classify import ClassifierI\n",
    "\n",
    "from sklearn.naive_bayes import MultinomialNB, BernoulliNB\n",
    "from sklearn.linear_model import LogisticRegression, SGDClassifier\n",
    "from sklearn.svm import LinearSVC, NuSVC\n",
    "from sklearn.metrics import f1_score, accuracy_score\n",
    "\n",
    "pd.set_option('display.max_columns', None)\n",
    "pd.set_option('display.max_rows', None)"
   ]
  },
  {
   "cell_type": "markdown",
   "metadata": {},
   "source": [
    "# Load and clean data"
   ]
  },
  {
   "cell_type": "markdown",
   "metadata": {},
   "source": [
    "## read review_text.csv and drop review_id columns and reduce size by randomly sampling keeping the distribution of pos to neg"
   ]
  },
  {
   "cell_type": "code",
   "execution_count": 2,
   "metadata": {},
   "outputs": [],
   "source": [
    "# read the reviews_text.csv file in chuncks of 500,000 rows at a time\n",
    "df_chunk = pd.read_csv('reviews_text.csv', chunksize=500000)\n",
    "chunk_list = []\n",
    "\n",
    "for chunk in df_chunk:\n",
    "    chunk_list.append(chunk)\n",
    "    \n",
    "# concat chuncks in chuncks list into one df\n",
    "reviews = pd.concat(chunk_list)"
   ]
  },
  {
   "cell_type": "code",
   "execution_count": 3,
   "metadata": {},
   "outputs": [],
   "source": [
    "# drop un-needed columns\n",
    "reviews.drop(columns=['review_stars','review_id'], inplace=True)"
   ]
  },
  {
   "cell_type": "code",
   "execution_count": 4,
   "metadata": {},
   "outputs": [
    {
     "data": {
      "text/plain": [
       "(6685900, 2)"
      ]
     },
     "execution_count": 4,
     "metadata": {},
     "output_type": "execute_result"
    }
   ],
   "source": [
    "# print out the shape\n",
    "reviews.shape"
   ]
  },
  {
   "cell_type": "code",
   "execution_count": 5,
   "metadata": {},
   "outputs": [
    {
     "data": {
      "text/html": [
       "<div>\n",
       "<style scoped>\n",
       "    .dataframe tbody tr th:only-of-type {\n",
       "        vertical-align: middle;\n",
       "    }\n",
       "\n",
       "    .dataframe tbody tr th {\n",
       "        vertical-align: top;\n",
       "    }\n",
       "\n",
       "    .dataframe thead th {\n",
       "        text-align: right;\n",
       "    }\n",
       "</style>\n",
       "<table border=\"1\" class=\"dataframe\">\n",
       "  <thead>\n",
       "    <tr style=\"text-align: right;\">\n",
       "      <th></th>\n",
       "      <th>text</th>\n",
       "      <th>sentiment</th>\n",
       "    </tr>\n",
       "  </thead>\n",
       "  <tbody>\n",
       "    <tr>\n",
       "      <th>0</th>\n",
       "      <td>Total bill for this horrible service? Over $8G...</td>\n",
       "      <td>neg</td>\n",
       "    </tr>\n",
       "    <tr>\n",
       "      <th>1</th>\n",
       "      <td>I *adore* Travis at the Hard Rock's new Kelly ...</td>\n",
       "      <td>pos</td>\n",
       "    </tr>\n",
       "    <tr>\n",
       "      <th>2</th>\n",
       "      <td>I have to say that this office really has it t...</td>\n",
       "      <td>pos</td>\n",
       "    </tr>\n",
       "    <tr>\n",
       "      <th>3</th>\n",
       "      <td>Went in for a lunch. Steak sandwich was delici...</td>\n",
       "      <td>pos</td>\n",
       "    </tr>\n",
       "    <tr>\n",
       "      <th>4</th>\n",
       "      <td>Today was my second out of three sessions I ha...</td>\n",
       "      <td>neg</td>\n",
       "    </tr>\n",
       "  </tbody>\n",
       "</table>\n",
       "</div>"
      ],
      "text/plain": [
       "                                                text sentiment\n",
       "0  Total bill for this horrible service? Over $8G...       neg\n",
       "1  I *adore* Travis at the Hard Rock's new Kelly ...       pos\n",
       "2  I have to say that this office really has it t...       pos\n",
       "3  Went in for a lunch. Steak sandwich was delici...       pos\n",
       "4  Today was my second out of three sessions I ha...       neg"
      ]
     },
     "execution_count": 5,
     "metadata": {},
     "output_type": "execute_result"
    }
   ],
   "source": [
    "# print out the first 5 rows\n",
    "reviews.head()"
   ]
  },
  {
   "cell_type": "code",
   "execution_count": 6,
   "metadata": {},
   "outputs": [
    {
     "data": {
      "text/plain": [
       "pos    0.658411\n",
       "neg    0.341589\n",
       "Name: sentiment, dtype: float64"
      ]
     },
     "execution_count": 6,
     "metadata": {},
     "output_type": "execute_result"
    }
   ],
   "source": [
    "# print out the distribution of review sentiment\n",
    "reviews['sentiment'].value_counts(normalize=True)"
   ]
  },
  {
   "cell_type": "code",
   "execution_count": 7,
   "metadata": {},
   "outputs": [],
   "source": [
    "# create variables for reducing the df size while keeping the distribution the same as the origninal df\n",
    "n = 50000\n",
    "pos_n = int(n*0.658411)\n",
    "neg_n = int(n*0.341589) + 1\n",
    "\n",
    "assert pos_n + neg_n == n"
   ]
  },
  {
   "cell_type": "code",
   "execution_count": 8,
   "metadata": {},
   "outputs": [],
   "source": [
    "# seperate pos reviews from neg reviews\n",
    "pos_reviews = reviews[reviews['sentiment'] == 'pos']\n",
    "\n",
    "#randomly sample pos_n rows from the pos reviews\n",
    "pos_reviews = pos_reviews.sample(pos_n, random_state=42)"
   ]
  },
  {
   "cell_type": "code",
   "execution_count": 9,
   "metadata": {},
   "outputs": [],
   "source": [
    "# seperate neg reviews from pos reviews\n",
    "neg_reviews = reviews[reviews['sentiment'] == 'neg']\n",
    "\n",
    "#randomly sample neg_n rows from the neg reviews\n",
    "neg_reviews = neg_reviews.sample(neg_n, random_state=42)"
   ]
  },
  {
   "cell_type": "code",
   "execution_count": 10,
   "metadata": {},
   "outputs": [
    {
     "data": {
      "text/plain": [
       "(50000, 2)"
      ]
     },
     "execution_count": 10,
     "metadata": {},
     "output_type": "execute_result"
    }
   ],
   "source": [
    "# concat pos and neg reviews\n",
    "sampled_reviews = pd.concat([pos_reviews, neg_reviews])\n",
    "\n",
    "# print out shape of sampled reviews\n",
    "sampled_reviews.shape"
   ]
  },
  {
   "cell_type": "code",
   "execution_count": 11,
   "metadata": {},
   "outputs": [],
   "source": [
    "# delete unused df's to free up memory\n",
    "del reviews \n",
    "del pos_reviews\n",
    "del neg_reviews"
   ]
  },
  {
   "cell_type": "code",
   "execution_count": 12,
   "metadata": {},
   "outputs": [
    {
     "data": {
      "text/plain": [
       "pos    0.6584\n",
       "neg    0.3416\n",
       "Name: sentiment, dtype: float64"
      ]
     },
     "execution_count": 12,
     "metadata": {},
     "output_type": "execute_result"
    }
   ],
   "source": [
    "# check distribution of sampled reviews\n",
    "sampled_reviews['sentiment'].value_counts(normalize=True)"
   ]
  },
  {
   "cell_type": "markdown",
   "metadata": {},
   "source": [
    "# Prep data for nltk analysis and classification\n",
    "### create a list of tuples [ (review, sentiment) ] and a 'Bag of Words' from the review text of adjectives, verbs and adverbs "
   ]
  },
  {
   "cell_type": "code",
   "execution_count": 14,
   "metadata": {},
   "outputs": [],
   "source": [
    "# create var with stop words to be removed from reviews\n",
    "stop_words = list(set(stopwords.words('english')))\n",
    "\n",
    "# list of tags from nltk's part of speech tags for adjectives, verbs, and adverbs\n",
    "allowed_word_types = [\"JJ\", \"JJR\", \"JJS\", \n",
    "                      \"RB\", \"RBR\", \"RBS\", \n",
    "                      \"VB\", \"VBD\", \"VBG\", \"VBN\", \"VBP\", \"VBZ\"]\n",
    "\n",
    "# create empty lists that will hold all allowed words and the list of labeled tuples\n",
    "all_words = []\n",
    "review_list = []"
   ]
  },
  {
   "cell_type": "code",
   "execution_count": 13,
   "metadata": {},
   "outputs": [],
   "source": [
    "def label_reviews(df, col, label):\n",
    "    for review in df[col]:\n",
    "        # create a list of tuples, first element is a review the second element is a label\n",
    "        review_list.append((review, label))\n",
    "\n",
    "def prep_text(df, col):\n",
    "    for review in df[col]:\n",
    "        # remove punctuations\n",
    "        cleaned = re.sub(r'[^(a-zA-Z)\\s]','', review)\n",
    "\n",
    "        # tokenize \n",
    "        tokenized = word_tokenize(cleaned)\n",
    "\n",
    "        # remove stopwords \n",
    "        stopped = [w for w in tokenized if not w in stop_words]\n",
    "\n",
    "        # parts of speech tagging for each word \n",
    "        speech = nltk.pos_tag(stopped)\n",
    "\n",
    "        # make a list of  all adjectives identified by the allowed word types list above\n",
    "        for w in speech:\n",
    "            if w[1] in allowed_word_types:\n",
    "                all_words.append(w[0].lower())"
   ]
  },
  {
   "cell_type": "code",
   "execution_count": 15,
   "metadata": {},
   "outputs": [],
   "source": [
    "# split sampled reviews into \n",
    "pos_sampled = sampled_reviews[sampled_reviews['sentiment'] == 'pos']\n",
    "neg_sampled = sampled_reviews[sampled_reviews['sentiment'] == 'neg']"
   ]
  },
  {
   "cell_type": "code",
   "execution_count": 16,
   "metadata": {},
   "outputs": [],
   "source": [
    "# use label_reviews function to create review list\n",
    "label_reviews(pos_sampled, 'text', 'pos')\n",
    "label_reviews(neg_sampled, 'text', 'neg')"
   ]
  },
  {
   "cell_type": "code",
   "execution_count": 17,
   "metadata": {},
   "outputs": [],
   "source": [
    "# check len of review list is 50,000\n",
    "assert len(review_list) == 50000"
   ]
  },
  {
   "cell_type": "code",
   "execution_count": 18,
   "metadata": {},
   "outputs": [],
   "source": [
    "#use prep_text function to get all allowed words\n",
    "prep_text(pos_sampled, 'text')\n",
    "prep_text(neg_sampled, 'text')"
   ]
  },
  {
   "cell_type": "code",
   "execution_count": 19,
   "metadata": {},
   "outputs": [
    {
     "data": {
      "text/plain": [
       "['really',\n",
       " 'great',\n",
       " 'like',\n",
       " 'stars',\n",
       " 'added',\n",
       " 'removed',\n",
       " 'escaped',\n",
       " 'opened',\n",
       " 'store',\n",
       " 'sure']"
      ]
     },
     "execution_count": 19,
     "metadata": {},
     "output_type": "execute_result"
    }
   ],
   "source": [
    "# print out the first 10 words in all_words list\n",
    "all_words[:10]"
   ]
  },
  {
   "cell_type": "markdown",
   "metadata": {},
   "source": [
    "# Create features from all_words list and review_text\n",
    "### create a frequency distribution of words in all_words, create features from reviews based on frequency distribution, create a feature set list and split it into training and testing"
   ]
  },
  {
   "cell_type": "code",
   "execution_count": 20,
   "metadata": {},
   "outputs": [],
   "source": [
    "def review_features(review_list):\n",
    "    words = word_tokenize(review_list)\n",
    "    features = {}\n",
    "    for word in word_features:\n",
    "        features[word] = (word in words)\n",
    "    return features"
   ]
  },
  {
   "cell_type": "code",
   "execution_count": 21,
   "metadata": {},
   "outputs": [],
   "source": [
    "# creating a frequency distribution of each adjectives.\n",
    "all_words = nltk.FreqDist(all_words)\n",
    "\n",
    "# listing the 3500 most frequent words\n",
    "word_features = list(all_words.keys())[:3500]"
   ]
  },
  {
   "cell_type": "code",
   "execution_count": 97,
   "metadata": {},
   "outputs": [],
   "source": [
    "most_words = pd.DataFrame(all_words.most_common(10))"
   ]
  },
  {
   "cell_type": "code",
   "execution_count": 98,
   "metadata": {},
   "outputs": [
    {
     "data": {
      "text/html": [
       "<div>\n",
       "<style scoped>\n",
       "    .dataframe tbody tr th:only-of-type {\n",
       "        vertical-align: middle;\n",
       "    }\n",
       "\n",
       "    .dataframe tbody tr th {\n",
       "        vertical-align: top;\n",
       "    }\n",
       "\n",
       "    .dataframe thead th {\n",
       "        text-align: right;\n",
       "    }\n",
       "</style>\n",
       "<table border=\"1\" class=\"dataframe\">\n",
       "  <thead>\n",
       "    <tr style=\"text-align: right;\">\n",
       "      <th></th>\n",
       "      <th>0</th>\n",
       "      <th>1</th>\n",
       "    </tr>\n",
       "  </thead>\n",
       "  <tbody>\n",
       "    <tr>\n",
       "      <th>0</th>\n",
       "      <td>good</td>\n",
       "      <td>23081</td>\n",
       "    </tr>\n",
       "    <tr>\n",
       "      <th>1</th>\n",
       "      <td>great</td>\n",
       "      <td>18082</td>\n",
       "    </tr>\n",
       "    <tr>\n",
       "      <th>2</th>\n",
       "      <td>back</td>\n",
       "      <td>13214</td>\n",
       "    </tr>\n",
       "    <tr>\n",
       "      <th>3</th>\n",
       "      <td>get</td>\n",
       "      <td>12886</td>\n",
       "    </tr>\n",
       "    <tr>\n",
       "      <th>4</th>\n",
       "      <td>go</td>\n",
       "      <td>12204</td>\n",
       "    </tr>\n",
       "  </tbody>\n",
       "</table>\n",
       "</div>"
      ],
      "text/plain": [
       "       0      1\n",
       "0   good  23081\n",
       "1  great  18082\n",
       "2   back  13214\n",
       "3    get  12886\n",
       "4     go  12204"
      ]
     },
     "execution_count": 98,
     "metadata": {},
     "output_type": "execute_result"
    }
   ],
   "source": [
    "most_words.head()"
   ]
  },
  {
   "cell_type": "code",
   "execution_count": 99,
   "metadata": {},
   "outputs": [
    {
     "data": {
      "image/png": "[encoded data removed]",
      "text/plain": [
       "<Figure size 504x864 with 1 Axes>"
      ]
     },
     "metadata": {},
     "output_type": "display_data"
    }
   ],
   "source": [
    "sns.set(style=\"whitegrid\")\n",
    "sns.set_color_codes(\"dark\")\n",
    "\n",
    "plt.figure(figsize=(7,12))\n",
    "sns.barplot(x=most_words[1], y=most_words[0], color='b')\n",
    "plt.title(\"Top 10 Most Frequent Words Used in Reviews\")\n",
    "plt.ylabel(\"Word\")\n",
    "plt.xlabel(\"Frequecy\");"
   ]
  },
  {
   "cell_type": "code",
   "execution_count": 22,
   "metadata": {},
   "outputs": [],
   "source": [
    "feature_sets = [(review_features(review), label) for (review, label) in review_list]"
   ]
  },
  {
   "cell_type": "code",
   "execution_count": 23,
   "metadata": {},
   "outputs": [],
   "source": [
    "random.seed(42)\n",
    "random.shuffle(feature_sets)"
   ]
  },
  {
   "cell_type": "code",
   "execution_count": 24,
   "metadata": {},
   "outputs": [],
   "source": [
    "training_set = feature_sets[:40000]\n",
    "testing_set = feature_sets[40000:]"
   ]
  },
  {
   "cell_type": "code",
   "execution_count": 25,
   "metadata": {},
   "outputs": [
    {
     "name": "stdout",
     "output_type": "stream",
     "text": [
      "Wall time: 1min 45s\n"
     ]
    }
   ],
   "source": [
    "%time NB_classifier = nltk.NaiveBayesClassifier.train(training_set)"
   ]
  },
  {
   "cell_type": "code",
   "execution_count": 26,
   "metadata": {},
   "outputs": [
    {
     "name": "stdout",
     "output_type": "stream",
     "text": [
      "Wall time: 1min 4s\n"
     ]
    }
   ],
   "source": [
    "%time NB_accuracy = nltk.classify.accuracy(NB_classifier, testing_set)"
   ]
  },
  {
   "cell_type": "code",
   "execution_count": 109,
   "metadata": {},
   "outputs": [],
   "source": [
    "neg_informative = {\n",
    "    'unprofessional': 33.4,\n",
    "    'disgusting': 30.8,\n",
    "    'inedible': 27.7,\n",
    "    'worst': 19.2,\n",
    "    'acknowledged': 18.4,\n",
    "    'rude': 16.3,\n",
    "    'tasteless': 15,\n",
    "    'uncaring': 14.9,\n",
    "    'depressed': 13.6,\n",
    "    'terrible': 12.3\n",
    "}\n",
    "\n",
    "pos_informative = {\n",
    "    'exceeded': 13.9,\n",
    "    'gem': 13.3,\n",
    "    'heavenly': 9.7,\n",
    "    'addicting': 9.5,\n",
    "    'hooked': 8.9,\n",
    "    'impeccable': 7.8,\n",
    "    'coolest': 7.7,\n",
    "    'magnificent': 7.4,\n",
    "    'focuses': 7.1,\n",
    "    'wonderfully': 6.7 \n",
    "}"
   ]
  },
  {
   "cell_type": "code",
   "execution_count": 113,
   "metadata": {},
   "outputs": [],
   "source": [
    "neg_df = pd.DataFrame(list(neg_informative.items()), columns=['word','ratio'])\n",
    "pos_df = pd.DataFrame(list(pos_informative.items()), columns=['word','ratio'])"
   ]
  },
  {
   "cell_type": "code",
   "execution_count": 124,
   "metadata": {},
   "outputs": [
    {
     "data": {
      "image/png": "[encoded data removed]",
      "text/plain": [
       "<Figure size 504x864 with 1 Axes>"
      ]
     },
     "metadata": {},
     "output_type": "display_data"
    }
   ],
   "source": [
    "sns.set_color_codes(\"pastel\")\n",
    "\n",
    "plt.figure(figsize=(7,12))\n",
    "sns.barplot(x=neg_df['ratio'], y=neg_df['word'], color='r')\n",
    "plt.title(\"Top 10 Most Informative Negative Words by Neg/Pos Ratio\")\n",
    "plt.ylabel(\"Words\")\n",
    "plt.xlabel('Ratio neg/pos');"
   ]
  },
  {
   "cell_type": "code",
   "execution_count": 125,
   "metadata": {},
   "outputs": [
    {
     "data": {
      "image/png": "[encoded data removed]",
      "text/plain": [
       "<Figure size 504x864 with 1 Axes>"
      ]
     },
     "metadata": {},
     "output_type": "display_data"
    }
   ],
   "source": [
    "sns.set_color_codes(\"pastel\")\n",
    "\n",
    "plt.figure(figsize=(7,12))\n",
    "sns.barplot(x=pos_df['ratio'], y=pos_df['word'], color='g')\n",
    "plt.title(\"Top 10 Most Informative Positive Words by Pos/Neg Ratio\")\n",
    "plt.ylabel(\"Words\")\n",
    "plt.xlabel('Ratio pos/neg');"
   ]
  },
  {
   "cell_type": "code",
   "execution_count": 127,
   "metadata": {},
   "outputs": [
    {
     "name": "stdout",
     "output_type": "stream",
     "text": [
      "Most Informative Features\n",
      "          unprofessional = True              neg : pos    =     33.4 : 1.0\n",
      "              disgusting = True              neg : pos    =     30.8 : 1.0\n",
      "                inedible = True              neg : pos    =     27.7 : 1.0\n",
      "                   worst = True              neg : pos    =     19.2 : 1.0\n",
      "            acknowledged = True              neg : pos    =     18.4 : 1.0\n",
      "                    rude = True              neg : pos    =     16.3 : 1.0\n",
      "               tasteless = True              neg : pos    =     15.0 : 1.0\n",
      "                uncaring = True              neg : pos    =     14.9 : 1.0\n",
      "                exceeded = True              pos : neg    =     13.9 : 1.0\n",
      "               depressed = True              neg : pos    =     13.6 : 1.0\n"
     ]
    }
   ],
   "source": [
    "NB_classifier.show_most_informative_features(10)"
   ]
  },
  {
   "cell_type": "code",
   "execution_count": 28,
   "metadata": {},
   "outputs": [
    {
     "name": "stdout",
     "output_type": "stream",
     "text": [
      "Naive Bayes Classifier accuracy: 0.7719\n"
     ]
    }
   ],
   "source": [
    "print(f'Naive Bayes Classifier accuracy: {NB_accuracy}')"
   ]
  },
  {
   "cell_type": "markdown",
   "metadata": {},
   "source": [
    "# Try multiple classification models"
   ]
  },
  {
   "cell_type": "code",
   "execution_count": 29,
   "metadata": {},
   "outputs": [],
   "source": [
    "# create multiple classification models\n",
    "MultiNB_classifier = SklearnClassifier(MultinomialNB())\n",
    "BernNB_classifier = SklearnClassifier(BernoulliNB())\n",
    "LogisticReg_classifier = SklearnClassifier(LogisticRegression(n_jobs=-1))\n",
    "SGD_classifier = SklearnClassifier(SGDClassifier(n_jobs=-1))\n",
    "LinearSVC_classifier = SklearnClassifier(LinearSVC(max_iter=10000))"
   ]
  },
  {
   "cell_type": "code",
   "execution_count": 30,
   "metadata": {},
   "outputs": [
    {
     "name": "stdout",
     "output_type": "stream",
     "text": [
      "Wall time: 1min 17s\n"
     ]
    },
    {
     "data": {
      "text/plain": [
       "<SklearnClassifier(MultinomialNB(alpha=1.0, class_prior=None, fit_prior=True))>"
      ]
     },
     "execution_count": 30,
     "metadata": {},
     "output_type": "execute_result"
    }
   ],
   "source": [
    "# train all of the models\n",
    "%time MultiNB_classifier.train(training_set)"
   ]
  },
  {
   "cell_type": "code",
   "execution_count": 31,
   "metadata": {},
   "outputs": [
    {
     "name": "stdout",
     "output_type": "stream",
     "text": [
      "Wall time: 1min 14s\n"
     ]
    },
    {
     "data": {
      "text/plain": [
       "<SklearnClassifier(BernoulliNB(alpha=1.0, binarize=0.0, class_prior=None, fit_prior=True))>"
      ]
     },
     "execution_count": 31,
     "metadata": {},
     "output_type": "execute_result"
    }
   ],
   "source": [
    "%time BernNB_classifier.train(training_set)"
   ]
  },
  {
   "cell_type": "code",
   "execution_count": 32,
   "metadata": {},
   "outputs": [
    {
     "name": "stderr",
     "output_type": "stream",
     "text": [
      "C:\\Users\\andre\\AppData\\Roaming\\Python\\Python37\\site-packages\\sklearn\\linear_model\\logistic.py:432: FutureWarning: Default solver will be changed to 'lbfgs' in 0.22. Specify a solver to silence this warning.\n",
      "  FutureWarning)\n",
      "C:\\Users\\andre\\AppData\\Roaming\\Python\\Python37\\site-packages\\sklearn\\linear_model\\logistic.py:1544: UserWarning: 'n_jobs' > 1 does not have any effect when 'solver' is set to 'liblinear'. Got 'n_jobs' = 12.\n",
      "  \" = {}.\".format(effective_n_jobs(self.n_jobs)))\n"
     ]
    },
    {
     "name": "stdout",
     "output_type": "stream",
     "text": [
      "Wall time: 2min 29s\n"
     ]
    },
    {
     "data": {
      "text/plain": [
       "<SklearnClassifier(LogisticRegression(C=1.0, class_weight=None, dual=False, fit_intercept=True,\n",
       "                   intercept_scaling=1, l1_ratio=None, max_iter=100,\n",
       "                   multi_class='warn', n_jobs=-1, penalty='l2',\n",
       "                   random_state=None, solver='warn', tol=0.0001, verbose=0,\n",
       "                   warm_start=False))>"
      ]
     },
     "execution_count": 32,
     "metadata": {},
     "output_type": "execute_result"
    }
   ],
   "source": [
    "%time LogisticReg_classifier.train(training_set)"
   ]
  },
  {
   "cell_type": "code",
   "execution_count": 33,
   "metadata": {},
   "outputs": [
    {
     "name": "stdout",
     "output_type": "stream",
     "text": [
      "Wall time: 1min 22s\n"
     ]
    },
    {
     "data": {
      "text/plain": [
       "<SklearnClassifier(SGDClassifier(alpha=0.0001, average=False, class_weight=None,\n",
       "              early_stopping=False, epsilon=0.1, eta0=0.0, fit_intercept=True,\n",
       "              l1_ratio=0.15, learning_rate='optimal', loss='hinge',\n",
       "              max_iter=1000, n_iter_no_change=5, n_jobs=-1, penalty='l2',\n",
       "              power_t=0.5, random_state=None, shuffle=True, tol=0.001,\n",
       "              validation_fraction=0.1, verbose=0, warm_start=False))>"
      ]
     },
     "execution_count": 33,
     "metadata": {},
     "output_type": "execute_result"
    }
   ],
   "source": [
    "%time SGD_classifier.train(training_set)"
   ]
  },
  {
   "cell_type": "code",
   "execution_count": 34,
   "metadata": {},
   "outputs": [
    {
     "name": "stdout",
     "output_type": "stream",
     "text": [
      "Wall time: 10min 51s\n"
     ]
    },
    {
     "data": {
      "text/plain": [
       "<SklearnClassifier(LinearSVC(C=1.0, class_weight=None, dual=True, fit_intercept=True,\n",
       "          intercept_scaling=1, loss='squared_hinge', max_iter=10000,\n",
       "          multi_class='ovr', penalty='l2', random_state=None, tol=0.0001,\n",
       "          verbose=0))>"
      ]
     },
     "execution_count": 34,
     "metadata": {},
     "output_type": "execute_result"
    }
   ],
   "source": [
    "%time LinearSVC_classifier.train(training_set)"
   ]
  },
  {
   "cell_type": "code",
   "execution_count": 35,
   "metadata": {},
   "outputs": [],
   "source": [
    "# accuracy for all models\n",
    "MultiNB_accuracy = nltk.classify.accuracy(MultiNB_classifier, testing_set)\n",
    "BernNB_accuracy = nltk.classify.accuracy(BernNB_classifier, testing_set)\n",
    "LogisticReg_accuracy = nltk.classify.accuracy(LogisticReg_classifier, testing_set)\n",
    "SGD_accuracy = nltk.classify.accuracy(SGD_classifier, testing_set)\n",
    "LinearSVC_accuracy = nltk.classify.accuracy(LinearSVC_classifier, testing_set)"
   ]
  },
  {
   "cell_type": "code",
   "execution_count": 36,
   "metadata": {},
   "outputs": [
    {
     "name": "stdout",
     "output_type": "stream",
     "text": [
      "Multinomial Naivey Bayes Classifier accuracy: 0.843\n",
      "Bernoulli Naivey Bayes Classifier accuracy: 0.7701\n",
      "Logistic Regression Classifier accuracy: 0.8645\n",
      "SGDClassifier accuracy: 0.8639\n",
      "Linear Support Vector Classifier accuracy: 0.8564\n"
     ]
    }
   ],
   "source": [
    "print(f'Multinomial Naivey Bayes Classifier accuracy: {MultiNB_accuracy}')\n",
    "print(f'Bernoulli Naivey Bayes Classifier accuracy: {BernNB_accuracy}')\n",
    "print(f'Logistic Regression Classifier accuracy: {LogisticReg_accuracy}')\n",
    "print(f'SGDClassifier accuracy: {SGD_accuracy}')\n",
    "print(f'Linear Support Vector Classifier accuracy: {LinearSVC_accuracy}')"
   ]
  },
  {
   "cell_type": "code",
   "execution_count": null,
   "metadata": {},
   "outputs": [],
   "source": []
  },
  {
   "cell_type": "code",
   "execution_count": null,
   "metadata": {},
   "outputs": [],
   "source": []
  },
  {
   "cell_type": "code",
   "execution_count": null,
   "metadata": {},
   "outputs": [],
   "source": []
  }
 ],
 "metadata": {
  "kernelspec": {
   "display_name": "Python 3",
   "language": "python",
   "name": "python3"
  },
  "language_info": {
   "codemirror_mode": {
    "name": "ipython",
    "version": 3
   },
   "file_extension": ".py",
   "mimetype": "text/x-python",
   "name": "python",
   "nbconvert_exporter": "python",
   "pygments_lexer": "ipython3",
   "version": "3.7.3"
  }
 },
 "nbformat": 4,
 "nbformat_minor": 2
}
